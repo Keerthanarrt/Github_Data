{
  "nbformat": 4,
  "nbformat_minor": 0,
  "metadata": {
    "colab": {
      "provenance": [],
      "authorship_tag": "ABX9TyNwlGsNhQJmlbiyjqmv82FE",
      "include_colab_link": true
    },
    "kernelspec": {
      "name": "python3",
      "display_name": "Python 3"
    },
    "language_info": {
      "name": "python"
    }
  },
  "cells": [
    {
      "cell_type": "markdown",
      "metadata": {
        "id": "view-in-github",
        "colab_type": "text"
      },
      "source": [
        "<a href=\"https://colab.research.google.com/github/Keerthanarrt/Github_Data/blob/main/python_basics4_5.ipynb\" target=\"_parent\"><img src=\"https://colab.research.google.com/assets/colab-badge.svg\" alt=\"Open In Colab\"/></a>"
      ]
    },
    {
      "cell_type": "markdown",
      "source": [
        "**NOTEBOOK CONTENT:**\n",
        "1.list (including unpacking(*))\n",
        "2.slicing\n",
        "3.append()\n",
        "4.sep (in built function)\n",
        "5.unpacking(*)\n",
        "6.insert() (using index no)\n",
        "7.extend()\n",
        "8.count()\n",
        "9.reverse()\n",
        "10.sort() (ascending and descending ording using reverse())\n",
        "11.list operations:\n",
        "     1.remove()\n",
        "     2.pop()\n",
        "12.del -->delete\n",
        "13.String functions\n"
      ],
      "metadata": {
        "id": "-O22O6K4ovrN"
      }
    },
    {
      "cell_type": "code",
      "source": [
        "#list\n",
        "a=[1,1.4,\"keerthi\",True]\n",
        "print(a)"
      ],
      "metadata": {
        "colab": {
          "base_uri": "https://localhost:8080/"
        },
        "id": "Xa5r226gZZ2e",
        "outputId": "d4ec0ef3-be52-49d5-e838-7c088f6b1702"
      },
      "execution_count": null,
      "outputs": [
        {
          "output_type": "stream",
          "name": "stdout",
          "text": [
            "[1, 1.4, 'keerthi', True]\n"
          ]
        }
      ]
    },
    {
      "cell_type": "code",
      "source": [
        "#list (using index no's)\n",
        "b=[12,13,14,15,16,17,18]\n",
        "print(b[4])"
      ],
      "metadata": {
        "colab": {
          "base_uri": "https://localhost:8080/"
        },
        "id": "YFwLnesDbBo7",
        "outputId": "842ec07a-e882-4e69-dad9-dd3c641d6588"
      },
      "execution_count": null,
      "outputs": [
        {
          "output_type": "stream",
          "name": "stdout",
          "text": [
            "16\n"
          ]
        }
      ]
    },
    {
      "cell_type": "code",
      "source": [
        "#unpacking(*)\n",
        "print(*b)"
      ],
      "metadata": {
        "colab": {
          "base_uri": "https://localhost:8080/"
        },
        "id": "WjZgHLIdc0VV",
        "outputId": "2eac2c17-4cb1-49ca-b072-de6c9ad80f66"
      },
      "execution_count": null,
      "outputs": [
        {
          "output_type": "stream",
          "name": "stdout",
          "text": [
            "12 13 14 15 16 17 18\n"
          ]
        }
      ]
    },
    {
      "cell_type": "code",
      "source": [
        "#sep\n",
        "print(\"k\",\"d\",\"r\", sep=\"\")\n",
        "print(\"9\",\"9\",\"23\", sep=\"/\")\n",
        "print(\"keerthi\",\"2023\",sep=\"@\")"
      ],
      "metadata": {
        "colab": {
          "base_uri": "https://localhost:8080/"
        },
        "id": "3TFOoKY3CSfg",
        "outputId": "5979a08e-dd6c-414d-9057-c92fd634eb8d"
      },
      "execution_count": null,
      "outputs": [
        {
          "output_type": "stream",
          "name": "stdout",
          "text": [
            "kdr\n",
            "9/9/23\n",
            "keerthi@2023\n"
          ]
        }
      ]
    },
    {
      "cell_type": "code",
      "source": [
        "t = [\"a\",\"p\",\"p\",\"l\",\"e\"]\n",
        "print(*t)"
      ],
      "metadata": {
        "colab": {
          "base_uri": "https://localhost:8080/"
        },
        "id": "HQfUMqTsdAuY",
        "outputId": "0ed665ae-9e98-489b-b784-dcd383be3c2c"
      },
      "execution_count": null,
      "outputs": [
        {
          "output_type": "stream",
          "name": "stdout",
          "text": [
            "a p p l e\n"
          ]
        }
      ]
    },
    {
      "cell_type": "code",
      "source": [
        "b=[12,13,14,15,16,17,18]\n",
        "print(b[:4])        #slicing"
      ],
      "metadata": {
        "colab": {
          "base_uri": "https://localhost:8080/"
        },
        "id": "-tVt5Bhkb2HQ",
        "outputId": "26e3a86b-1179-49a7-de82-3d27183e7020"
      },
      "execution_count": null,
      "outputs": [
        {
          "output_type": "stream",
          "name": "stdout",
          "text": [
            "[12, 13, 14, 15]\n"
          ]
        }
      ]
    },
    {
      "cell_type": "code",
      "source": [
        "b=[12,13,14,15,16,17,18]\n",
        "print(b[::-2])"
      ],
      "metadata": {
        "colab": {
          "base_uri": "https://localhost:8080/"
        },
        "id": "7lgPHRt6cPc9",
        "outputId": "abded91b-df73-4a7f-8ba4-714a164a250e"
      },
      "execution_count": null,
      "outputs": [
        {
          "output_type": "stream",
          "name": "stdout",
          "text": [
            "[18, 16, 14, 12]\n"
          ]
        }
      ]
    },
    {
      "cell_type": "code",
      "source": [
        "print(b[0:])"
      ],
      "metadata": {
        "colab": {
          "base_uri": "https://localhost:8080/"
        },
        "id": "F-FCJDHrcEqf",
        "outputId": "8fff267c-8406-4738-e7cf-1e9cecf115d4"
      },
      "execution_count": null,
      "outputs": [
        {
          "output_type": "stream",
          "name": "stdout",
          "text": [
            "[12, 13, 14, 15, 16, 17, 18]\n"
          ]
        }
      ]
    },
    {
      "cell_type": "code",
      "source": [
        "#append (adding items to the list \"At the end\")\n",
        "a=[]\n",
        "a.append(2)\n",
        "a.append(\"keerthi\")\n",
        "a.append(1.6)\n",
        "a.append([1,2,3])\n",
        "print(a)"
      ],
      "metadata": {
        "colab": {
          "base_uri": "https://localhost:8080/"
        },
        "id": "q7IDdiDuqzLp",
        "outputId": "06c3e143-6548-4417-bdc9-1f444df282d6"
      },
      "execution_count": null,
      "outputs": [
        {
          "output_type": "stream",
          "name": "stdout",
          "text": [
            "[2, 'keerthi', 1.6, [1, 2, 3]]\n"
          ]
        }
      ]
    },
    {
      "cell_type": "code",
      "source": [
        "#replacing values or updating values \"using the positions\"\n",
        "a=[]\n",
        "a.append(2)\n",
        "a.append(\"keerthi\")\n",
        "a.append(1.6)\n",
        "a.append([1,2,3])\n",
        "a[3][2]=200           #using index we can replace value\n",
        "print(a)"
      ],
      "metadata": {
        "colab": {
          "base_uri": "https://localhost:8080/"
        },
        "id": "Ud1VooO33Pjg",
        "outputId": "ef2161a5-a59f-4b08-ede6-13e57a822e61"
      },
      "execution_count": null,
      "outputs": [
        {
          "output_type": "stream",
          "name": "stdout",
          "text": [
            "[2, 'keerthi', 1.6, [1, 2, 200]]\n"
          ]
        }
      ]
    },
    {
      "cell_type": "code",
      "source": [
        "#insert\n",
        "b = [1,4,8]\n",
        "b.insert(1,\"number\")   #inserted using index,here 1 is the index no \"number\" is the element that should b inserted\n",
        "print(b)"
      ],
      "metadata": {
        "colab": {
          "base_uri": "https://localhost:8080/"
        },
        "id": "calKsWOP4lAR",
        "outputId": "4a153236-273d-4ce8-edbb-3542152b1ddb"
      },
      "execution_count": null,
      "outputs": [
        {
          "output_type": "stream",
          "name": "stdout",
          "text": [
            "[1, 'number', 4, 8]\n"
          ]
        }
      ]
    },
    {
      "cell_type": "code",
      "source": [
        "#inserting inside list of list\n",
        "a=[]\n",
        "a.append(2)\n",
        "a.append(\"keerthi\")\n",
        "a.append(1.6)\n",
        "a.append([1,2,3])\n",
        "a[3].insert(1,2000)   #For muliple lists,variable and list position should be mentioned before insert.\n",
        "print(a)"
      ],
      "metadata": {
        "colab": {
          "base_uri": "https://localhost:8080/"
        },
        "id": "rz1DA8fE6O-Y",
        "outputId": "4b4ddef2-d993-46b5-f743-ab87cb2d6598"
      },
      "execution_count": null,
      "outputs": [
        {
          "output_type": "stream",
          "name": "stdout",
          "text": [
            "[2, 'keerthi', 1.6, [1, 2000, 2, 3]]\n"
          ]
        }
      ]
    },
    {
      "cell_type": "code",
      "source": [
        "#extend\n",
        "a=[]\n",
        "a.append(2)\n",
        "a.append(\"keerthi\")\n",
        "a.append(1.6)\n",
        "a.append([1,2,3])\n",
        "a[3][2]=200\n",
        "a.extend([201,202,203])           #using extend\n",
        "print(a)"
      ],
      "metadata": {
        "colab": {
          "base_uri": "https://localhost:8080/"
        },
        "id": "OoGROBjVG3tR",
        "outputId": "5c4291fb-1578-414a-f9aa-4b7a3ae06b49"
      },
      "execution_count": null,
      "outputs": [
        {
          "output_type": "stream",
          "name": "stdout",
          "text": [
            "[2, 'keerthi', 1.6, [1, 2, 200], 201, 202, 203]\n"
          ]
        }
      ]
    },
    {
      "cell_type": "code",
      "source": [
        "#extend output will be indiviual element whereas,append will be printed as a list\n",
        "a=[]\n",
        "a.append(2)\n",
        "a.append(\"keerthi\")\n",
        "a.append(1.6)\n",
        "a.append([1,2,3])\n",
        "a[3][2]=200\n",
        "a[3].extend([201,202,203])           #using extend we can also add elements inside list using index position\n",
        "print(a)"
      ],
      "metadata": {
        "colab": {
          "base_uri": "https://localhost:8080/"
        },
        "id": "thHlzdQeHja8",
        "outputId": "a84af89f-3a1c-41c2-a77f-2e239af39219"
      },
      "execution_count": null,
      "outputs": [
        {
          "output_type": "stream",
          "name": "stdout",
          "text": [
            "[2, 'keerthi', 1.6, [1, 2, 200, 201, 202, 203]]\n"
          ]
        }
      ]
    },
    {
      "cell_type": "code",
      "source": [
        "#count() this will count the elements count inside the list but not list of list\n",
        "b=[1,2,4,4,5,6,6,6,[6,6,6]]\n",
        "b.count(6)                  #print is not needed"
      ],
      "metadata": {
        "colab": {
          "base_uri": "https://localhost:8080/"
        },
        "id": "nEAvtX0zJTrD",
        "outputId": "a6a6fea0-efe2-441a-9fd3-82ddeb16cf26"
      },
      "execution_count": null,
      "outputs": [
        {
          "output_type": "execute_result",
          "data": {
            "text/plain": [
              "3"
            ]
          },
          "metadata": {},
          "execution_count": 32
        }
      ]
    },
    {
      "cell_type": "code",
      "source": [
        "#index\n",
        "#this will not show zero if not available instead will throw error (though zero is also an index position)\n",
        "#index position is the output where the particular number is appeared for 1st time,repeated elements are not printed\n",
        "b=[1,2,4,4,5,6,6,6,[6,6,6]]\n",
        "b.index(4)"
      ],
      "metadata": {
        "colab": {
          "base_uri": "https://localhost:8080/"
        },
        "id": "GxgJhqEsLcv0",
        "outputId": "a4e598f2-3b66-4f9a-92af-a41b31dffa2c"
      },
      "execution_count": null,
      "outputs": [
        {
          "output_type": "execute_result",
          "data": {
            "text/plain": [
              "2"
            ]
          },
          "metadata": {},
          "execution_count": 37
        }
      ]
    },
    {
      "cell_type": "code",
      "source": [
        "#reverse\n",
        "b.reverse()   #it wil continuously reverse the same elements while running outputs again and again(so everytime o/p will diff)\n",
        "print(b)"
      ],
      "metadata": {
        "colab": {
          "base_uri": "https://localhost:8080/"
        },
        "id": "m361T_nsN55n",
        "outputId": "09b160f2-dd7d-40b5-d282-e98c4c097cf4"
      },
      "execution_count": null,
      "outputs": [
        {
          "output_type": "stream",
          "name": "stdout",
          "text": [
            "[[6, 6, 6], 6, 6, 6, 5, 4, 4, 2, 1]\n"
          ]
        }
      ]
    },
    {
      "cell_type": "code",
      "source": [
        "#sort\n",
        "#reverse=True-->Descending\n",
        "#reverse=False-->Ascending\n",
        "b.sort(reverse=True)\n",
        "print(b)                  #will give error when using multiple datatypes lik str,etc & list of list is also not allowed"
      ],
      "metadata": {
        "colab": {
          "base_uri": "https://localhost:8080/",
          "height": 227
        },
        "id": "TakdcT-mQm6m",
        "outputId": "8491a26a-0d24-4e7d-fb84-66abab0fa483"
      },
      "execution_count": null,
      "outputs": [
        {
          "output_type": "error",
          "ename": "TypeError",
          "evalue": "ignored",
          "traceback": [
            "\u001b[0;31m---------------------------------------------------------------------------\u001b[0m",
            "\u001b[0;31mTypeError\u001b[0m                                 Traceback (most recent call last)",
            "\u001b[0;32m<ipython-input-44-591d438ea1bb>\u001b[0m in \u001b[0;36m<cell line: 4>\u001b[0;34m()\u001b[0m\n\u001b[1;32m      2\u001b[0m \u001b[0;31m#reverse=True-->Descending\u001b[0m\u001b[0;34m\u001b[0m\u001b[0;34m\u001b[0m\u001b[0m\n\u001b[1;32m      3\u001b[0m \u001b[0;31m#reverse=False-->Ascending\u001b[0m\u001b[0;34m\u001b[0m\u001b[0;34m\u001b[0m\u001b[0m\n\u001b[0;32m----> 4\u001b[0;31m \u001b[0mb\u001b[0m\u001b[0;34m.\u001b[0m\u001b[0msort\u001b[0m\u001b[0;34m(\u001b[0m\u001b[0mreverse\u001b[0m\u001b[0;34m=\u001b[0m\u001b[0;32mTrue\u001b[0m\u001b[0;34m)\u001b[0m\u001b[0;34m\u001b[0m\u001b[0;34m\u001b[0m\u001b[0m\n\u001b[0m\u001b[1;32m      5\u001b[0m \u001b[0mprint\u001b[0m\u001b[0;34m(\u001b[0m\u001b[0mb\u001b[0m\u001b[0;34m)\u001b[0m\u001b[0;34m\u001b[0m\u001b[0;34m\u001b[0m\u001b[0m\n",
            "\u001b[0;31mTypeError\u001b[0m: '<' not supported between instances of 'list' and 'int'"
          ]
        }
      ]
    },
    {
      "cell_type": "code",
      "source": [
        "#sort\n",
        "b=[1,2,33,44,55,66,777]\n",
        "b.sort(reverse=True)\n",
        "print(b)\n",
        "b.sort(reverse=False)\n",
        "print(b)"
      ],
      "metadata": {
        "colab": {
          "base_uri": "https://localhost:8080/"
        },
        "id": "MsrLI_VLSYCx",
        "outputId": "00e21b42-4520-4be6-8a0d-90a63203eaa9"
      },
      "execution_count": null,
      "outputs": [
        {
          "output_type": "stream",
          "name": "stdout",
          "text": [
            "[777, 66, 55, 44, 33, 2, 1]\n",
            "[1, 2, 33, 44, 55, 66, 777]\n"
          ]
        }
      ]
    },
    {
      "cell_type": "code",
      "source": [
        "#list operations(it will work only on list)\n",
        "#remove\n",
        "#pop\n",
        "print(b)\n",
        "b.remove(66)     #-->will remove particular element\n",
        "print(b)\n",
        "\n"
      ],
      "metadata": {
        "id": "-RXoKRl_T_yr",
        "colab": {
          "base_uri": "https://localhost:8080/"
        },
        "outputId": "7915e42b-db7d-40d5-d365-c015071813d6"
      },
      "execution_count": null,
      "outputs": [
        {
          "output_type": "stream",
          "name": "stdout",
          "text": [
            "[1, 2, 33, 66]\n",
            "[1, 2, 33]\n"
          ]
        }
      ]
    },
    {
      "cell_type": "code",
      "source": [
        "print(b)\n",
        "b.pop(3)    #removed using index position\n",
        "print(b)"
      ],
      "metadata": {
        "colab": {
          "base_uri": "https://localhost:8080/"
        },
        "id": "Mf9BGnSWWcP_",
        "outputId": "53b061ed-f0d5-4eae-d3f6-01e4cf6db7b1"
      },
      "execution_count": null,
      "outputs": [
        {
          "output_type": "stream",
          "name": "stdout",
          "text": [
            "[1, 2, 33, 55, 66]\n",
            "[1, 2, 33, 66]\n"
          ]
        }
      ]
    },
    {
      "cell_type": "code",
      "source": [
        "#del is common function can b used in diff data structures\n",
        "print(b)\n",
        "del b[2]     #deleted using index no (only [] brackets are allowed for list)\n",
        "print(b)"
      ],
      "metadata": {
        "colab": {
          "base_uri": "https://localhost:8080/"
        },
        "id": "9dacwYqwWoqd",
        "outputId": "89722083-1068-47b4-db1c-1746ea5fc570"
      },
      "execution_count": null,
      "outputs": [
        {
          "output_type": "stream",
          "name": "stdout",
          "text": [
            "[1, 2, 33]\n",
            "[1, 2]\n"
          ]
        }
      ]
    },
    {
      "cell_type": "code",
      "source": [
        "#sring functions\":\n",
        "c=\"Hello Welcome to our home\"\n",
        "print (c.upper())\n",
        "print (c.lower())\n",
        "print (c.capitalize())\n",
        "print (c.swapcase())"
      ],
      "metadata": {
        "colab": {
          "base_uri": "https://localhost:8080/"
        },
        "id": "j4SoHCM1c1_J",
        "outputId": "f7ca2158-dadb-4163-a9be-bcf004f49885"
      },
      "execution_count": null,
      "outputs": [
        {
          "output_type": "stream",
          "name": "stdout",
          "text": [
            "HELLO WELCOME TO OUR HOME\n",
            "hello welcome to our home\n",
            "Hello welcome to our home\n",
            "hELLO wELCOME TO OUR HOME\n"
          ]
        }
      ]
    },
    {
      "cell_type": "code",
      "source": [
        "#these functions will give only true or false\n",
        "c=\"Hello Welcome to our home\"\n",
        "print(c.isalnum())  #--> should have only numbers and alphabets special characters not allowed including space\n",
        "c=\"Hello1Welcome1to1our1home\"\n",
        "print(c.isalnum())\n",
        "c=\"hello\"\n",
        "print(c.isalpha())   #--> only alphabets\n",
        "c=\"1\"\n",
        "print(c.isdigit())   #--> only numbers\n",
        "\n"
      ],
      "metadata": {
        "colab": {
          "base_uri": "https://localhost:8080/"
        },
        "id": "B163LbRld2lS",
        "outputId": "ee324ff0-d70f-40ed-ac03-fb80ed8ea6ed"
      },
      "execution_count": null,
      "outputs": [
        {
          "output_type": "stream",
          "name": "stdout",
          "text": [
            "False\n",
            "True\n",
            "True\n",
            "True\n"
          ]
        }
      ]
    },
    {
      "cell_type": "code",
      "source": [
        "c =\"\\u0030\"            #-->askey or unicode numbers\n",
        "print(c.isnumeric())"
      ],
      "metadata": {
        "colab": {
          "base_uri": "https://localhost:8080/"
        },
        "id": "8CAWioF2ijRq",
        "outputId": "4cbb748e-a2fd-4bd6-d1c4-d42166358c9f"
      },
      "execution_count": null,
      "outputs": [
        {
          "output_type": "stream",
          "name": "stdout",
          "text": [
            "True\n"
          ]
        }
      ]
    },
    {
      "cell_type": "code",
      "source": [
        "isinstance(3+4J,complex) #-->complex numbers"
      ],
      "metadata": {
        "colab": {
          "base_uri": "https://localhost:8080/"
        },
        "id": "E4FyphHylt20",
        "outputId": "232d0b66-46ff-469f-fa89-3cd0a35ffe99"
      },
      "execution_count": null,
      "outputs": [
        {
          "output_type": "execute_result",
          "data": {
            "text/plain": [
              "True"
            ]
          },
          "metadata": {},
          "execution_count": 95
        }
      ]
    },
    {
      "cell_type": "code",
      "source": [
        "isinstance(34,complex) #-->not a complex number it will giv false"
      ],
      "metadata": {
        "colab": {
          "base_uri": "https://localhost:8080/"
        },
        "id": "KzoW1VE7mbim",
        "outputId": "9172dd1b-39aa-4314-b94e-cfc81876dae5"
      },
      "execution_count": null,
      "outputs": [
        {
          "output_type": "execute_result",
          "data": {
            "text/plain": [
              "False"
            ]
          },
          "metadata": {},
          "execution_count": 96
        }
      ]
    },
    {
      "cell_type": "code",
      "source": [
        "a=[1,2,3,4,5,6,7]\n",
        "for i in a:\n",
        "  print(a)"
      ],
      "metadata": {
        "colab": {
          "base_uri": "https://localhost:8080/"
        },
        "id": "qcRLbccpmqnE",
        "outputId": "3f8d73cc-97d2-4ee6-e8a3-df0e0cb5a574"
      },
      "execution_count": null,
      "outputs": [
        {
          "output_type": "stream",
          "name": "stdout",
          "text": [
            "[1, 2, 3, 4, 5, 6, 7]\n",
            "[1, 2, 3, 4, 5, 6, 7]\n",
            "[1, 2, 3, 4, 5, 6, 7]\n",
            "[1, 2, 3, 4, 5, 6, 7]\n",
            "[1, 2, 3, 4, 5, 6, 7]\n",
            "[1, 2, 3, 4, 5, 6, 7]\n",
            "[1, 2, 3, 4, 5, 6, 7]\n"
          ]
        }
      ]
    },
    {
      "cell_type": "code",
      "source": [
        "a=[1,2,3,4,5,6,7]\n",
        "for i in a:\n",
        "  print(i)"
      ],
      "metadata": {
        "colab": {
          "base_uri": "https://localhost:8080/"
        },
        "id": "utMdZDNLpnjk",
        "outputId": "fdcad241-2f69-49e4-95d1-afafe19373a7"
      },
      "execution_count": null,
      "outputs": [
        {
          "output_type": "stream",
          "name": "stdout",
          "text": [
            "1\n",
            "2\n",
            "3\n",
            "4\n",
            "5\n",
            "6\n",
            "7\n"
          ]
        }
      ]
    },
    {
      "cell_type": "code",
      "source": [
        "#This is how a decimal number is seperated from a string during o/p\n",
        "'''We use \\d+\\.\\d+ regular expression in python to get non digit characters from a string.\n",
        "\\d returns a match where the string contains digits (numbers from 0 9)\n",
        "\n",
        "+ implies zero or more occurrences of characters.\n",
        "\n",
        "\\ signals a special sequence (can also be used to escape special characters).\n",
        "\n",
        ". is any character (except newline character).'''\n",
        "\n",
        "import re   #regular expression\n",
        "string = \"Today's temperature is 40.5 degrees.\"\n",
        "x=re.findall(\"\\d+\\.\\d+\",string)\n",
        "print(x)"
      ],
      "metadata": {
        "colab": {
          "base_uri": "https://localhost:8080/"
        },
        "id": "yY6gu7-WOWRM",
        "outputId": "b01cecdc-7117-41c5-8d40-d3481a98cbf5"
      },
      "execution_count": null,
      "outputs": [
        {
          "output_type": "stream",
          "name": "stdout",
          "text": [
            "['40.5']\n"
          ]
        }
      ]
    },
    {
      "cell_type": "code",
      "source": [
        "c = \" keerthi \"\n",
        "d = \" \"\n",
        "print(d.isspace())  #-->d variable hav only space so it becomes true\n",
        "print(c.isspace())  #-->only space it will check even with a string and a space left it will b false\n",
        "print(c.isupper())\n",
        "print(c.islower())"
      ],
      "metadata": {
        "colab": {
          "base_uri": "https://localhost:8080/"
        },
        "id": "pqfAkrfORn4G",
        "outputId": "4495a3ea-36b8-4953-cc5b-3d3d0c14c6d2"
      },
      "execution_count": null,
      "outputs": [
        {
          "output_type": "stream",
          "name": "stdout",
          "text": [
            "True\n",
            "False\n",
            "False\n",
            "True\n"
          ]
        }
      ]
    },
    {
      "cell_type": "code",
      "source": [
        "#split -->it will take space to split by default.We can also add characters to split\n",
        "d=(\"apple berry fig\")\n",
        "print(d.split())\n",
        "print(d.split(\"e\")) #-->where ever e is present it splits\n",
        "print(len(d))      #--->gives length of the string"
      ],
      "metadata": {
        "colab": {
          "base_uri": "https://localhost:8080/"
        },
        "id": "BqSd0FycTFc_",
        "outputId": "8f6203f9-cf83-48e2-aceb-643322b7f1a6"
      },
      "execution_count": null,
      "outputs": [
        {
          "output_type": "stream",
          "name": "stdout",
          "text": [
            "['apple', 'berry', 'fig']\n",
            "['appl', ' b', 'rry fig']\n",
            "15\n"
          ]
        }
      ]
    },
    {
      "cell_type": "code",
      "source": [
        "#Strip function:\n",
        "f = (\"    apple berry fig   \")\n",
        "print(f.strip())   #-->Removes space only at the right and left side of string not inbetween\n",
        "print(f.rstrip())  #-->removes white space in the right\n",
        "print(f.lstrip())  #-->removes white space in the left\n",
        "f = (\"nnnnnapple berry fignnn\")\n",
        "print(f.strip(\"n\")) #-->removes all the n's(What ever we specify inside ()) which is in both the corners\n",
        "print(f.lstrip(\"n\")) #-->removes in left corner\n",
        "print(f.rstrip(\"n\")) #-->removes in right corner\n"
      ],
      "metadata": {
        "colab": {
          "base_uri": "https://localhost:8080/"
        },
        "id": "kBZ_zzPtaaFO",
        "outputId": "a64c930e-f0fb-429d-8e75-9ddf3673b7a3"
      },
      "execution_count": null,
      "outputs": [
        {
          "output_type": "stream",
          "name": "stdout",
          "text": [
            "apple berry fig\n",
            "    apple berry fig\n",
            "apple berry fig   \n",
            "apple berry fig\n",
            "apple berry fignnn\n",
            "nnnnnapple berry fig\n"
          ]
        }
      ]
    },
    {
      "cell_type": "code",
      "source": [
        "#replace\n",
        "e=\"applrr\"\n",
        "k=e.replace(\"applrr\",\"apple\")\n",
        "print(k)\n",
        "\n",
        "#find\n",
        "k=\"apple\"\n",
        "print(k.find(\"l\"))   #-->find will giv index no if o/p is -1 then it indicates tat particular item is not present\n",
        "\n",
        "l=\" going to office today\"     # It will giv starting index no if u find a word\n",
        "l.find(\"office\")\n"
      ],
      "metadata": {
        "colab": {
          "base_uri": "https://localhost:8080/"
        },
        "id": "rhc0QdIEcyys",
        "outputId": "7608efc0-487f-4856-ce79-68d3208b4f23"
      },
      "execution_count": null,
      "outputs": [
        {
          "output_type": "stream",
          "name": "stdout",
          "text": [
            "apple\n",
            "3\n"
          ]
        },
        {
          "output_type": "execute_result",
          "data": {
            "text/plain": [
              "10"
            ]
          },
          "metadata": {},
          "execution_count": 29
        }
      ]
    },
    {
      "cell_type": "code",
      "source": [
        "#startswith & endswith\n",
        "print(l.startswith(\"go\"))  #-->due to whitespace o/p is false\n",
        "print(l.startswith(\" \"))\n",
        "print(l.endswith(\"day\"))"
      ],
      "metadata": {
        "colab": {
          "base_uri": "https://localhost:8080/"
        },
        "id": "vPmMIBTGhvSE",
        "outputId": "8c99fc65-abf7-41ff-cc88-756aa2ad398c"
      },
      "execution_count": null,
      "outputs": [
        {
          "output_type": "stream",
          "name": "stdout",
          "text": [
            "False\n",
            "True\n",
            "True\n"
          ]
        }
      ]
    },
    {
      "cell_type": "code",
      "source": [
        "\n",
        "f_name=str(input(\"First name:\"))\n",
        "l_name=str(input(\"Last name:\"))\n",
        "\n",
        "if f_name.isalpha() and l_name.isalpha():\n",
        "  print(\"Welcome\",f_name.capitalize(),l_name.capitalize())\n",
        "  number=str(input(\"Enter your Number:\"))\n",
        "  length=len(number)\n",
        "  if number.isdigit() and length==10 and 0<length<11:\n",
        "    print(\"+91\",number)\n",
        "    email = str(input(\"Enter your Email-Id::\"))\n",
        "    special_characters = \"@._\"\n",
        "    for i in email:\n",
        "      if i in special_characters or email.endswith(\"@gmail.com\") :\n",
        "        print(email)\n",
        "        break\n",
        "\n",
        "\n",
        "      else:\n",
        "          print(\"Invaild Email -- Id\")\n",
        "\n",
        "\n",
        "  else:\n",
        "    print(\"Phone Number Not Found\")\n",
        "\n",
        "\n",
        "else:\n",
        "  print(\"User Not Found\")\n"
      ],
      "metadata": {
        "colab": {
          "base_uri": "https://localhost:8080/"
        },
        "id": "guGYb3alkVoN",
        "outputId": "34dab089-1560-4182-d434-a48e56fd5299"
      },
      "execution_count": null,
      "outputs": [
        {
          "output_type": "stream",
          "name": "stdout",
          "text": [
            "First name::keerthana\n",
            "Last name::ramesh\n",
            "Welcome Keerthana Ramesh\n",
            "Enter your Number::9999999990\n",
            "+91 9999999990\n",
            "Enter your Email-Id::kerrth_1@gmail.com\n",
            "kerrth_1@gmail.com\n"
          ]
        }
      ]
    }
  ]
}