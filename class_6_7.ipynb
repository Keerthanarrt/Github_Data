{
  "nbformat": 4,
  "nbformat_minor": 0,
  "metadata": {
    "colab": {
      "provenance": [],
      "authorship_tag": "ABX9TyMqiKdPMBurcNUyQT6+OcYJ",
      "include_colab_link": true
    },
    "kernelspec": {
      "name": "python3",
      "display_name": "Python 3"
    },
    "language_info": {
      "name": "python"
    }
  },
  "cells": [
    {
      "cell_type": "markdown",
      "metadata": {
        "id": "view-in-github",
        "colab_type": "text"
      },
      "source": [
        "<a href=\"https://colab.research.google.com/github/Keerthanarrt/Github_Data/blob/main/class_6_7.ipynb\" target=\"_parent\"><img src=\"https://colab.research.google.com/assets/colab-badge.svg\" alt=\"Open In Colab\"/></a>"
      ]
    },
    {
      "cell_type": "markdown",
      "source": [
        "1.Dictionary\n",
        "2.Functions"
      ],
      "metadata": {
        "id": "d9KodWeWoM8J"
      }
    },
    {
      "cell_type": "code",
      "source": [
        "#Dictionary using integer keys,mixed keys,dict()\n",
        "d1={1:\"apple\",2:\"orange\"}\n",
        "print(d1)\n",
        "d2={\"name\":\"k\",\"age\":\"6\"}\n",
        "print(d2)\n",
        "print(dict({\"name\":\"k\",\"age\":\"6\"}))"
      ],
      "metadata": {
        "colab": {
          "base_uri": "https://localhost:8080/"
        },
        "id": "UIXG8NuKo3yt",
        "outputId": "aca74ed5-282a-446a-85d6-5e19ec731309"
      },
      "execution_count": null,
      "outputs": [
        {
          "output_type": "stream",
          "name": "stdout",
          "text": [
            "{1: 'apple', 2: 'orange'}\n",
            "{'name': 'k', 'age': '6'}\n",
            "{'name': 'k', 'age': '6'}\n"
          ]
        }
      ]
    },
    {
      "cell_type": "code",
      "source": [
        "#create dictionary\n",
        "table={1:2,\"name\":\"cat\",2.25:4.6,7:\"hi\",\"s\":4}\n",
        "print(table)\n",
        "#remove an item\n",
        "print(table.pop(2.25))  #-->It will remove values using key\n",
        "print(table)\n",
        "#adding values using key\n",
        "table[\"zoo\"]=\"animal\"\n",
        "print(table)\n",
        "#delete values using del()\n",
        "del table[7]\n",
        "print(table)\n",
        "#remove all\n",
        "table.clear()\n",
        "print(table)\n"
      ],
      "metadata": {
        "colab": {
          "base_uri": "https://localhost:8080/"
        },
        "id": "QiTWLt8dqiPf",
        "outputId": "07cdd5a9-c147-47c6-da25-2232453e653c"
      },
      "execution_count": null,
      "outputs": [
        {
          "output_type": "stream",
          "name": "stdout",
          "text": [
            "{1: 2, 'name': 'cat', 2.25: 4.6, 7: 'hi', 's': 4}\n",
            "4.6\n",
            "{1: 2, 'name': 'cat', 7: 'hi', 's': 4}\n",
            "{1: 2, 'name': 'cat', 7: 'hi', 's': 4, 'zoo': 'animal'}\n",
            "{1: 2, 'name': 'cat', 's': 4, 'zoo': 'animal'}\n",
            "{}\n",
            "table is empty\n"
          ]
        }
      ]
    },
    {
      "cell_type": "code",
      "source": [
        "#FUNCTIONS:\n",
        "#return()\n",
        "def keerthi():\n",
        "  print(\"hi\")\n",
        "  return \"bye\",1,6  #-->can use multiple values\n",
        "\n",
        "\n",
        "  print(\"out of the function\")  #--->wil not work aft return\n",
        "print(\"out of the function\")  #indentation is important\n",
        "keerthi()           #-->call a function otherwise it wil not work\n"
      ],
      "metadata": {
        "colab": {
          "base_uri": "https://localhost:8080/"
        },
        "id": "h6l5q3vR8b5M",
        "outputId": "6111418f-9c3f-41ef-ed8f-68341676537a"
      },
      "execution_count": null,
      "outputs": [
        {
          "output_type": "stream",
          "name": "stdout",
          "text": [
            "out of the function\n",
            "hi\n"
          ]
        },
        {
          "output_type": "execute_result",
          "data": {
            "text/plain": [
              "('bye', 1, 6)"
            ]
          },
          "metadata": {},
          "execution_count": 31
        }
      ]
    },
    {
      "cell_type": "code",
      "source": [
        "#return\n",
        "def greet(name):    #Here greet is function(), name is a parameter or variable\n",
        "  a= \"sam\" + name   #-->can add only str + str or int + int mixed types will throw error\n",
        "  return a\n",
        "\n",
        "print(greet(\"boss\"))   #-->function is called and name is replaced with \"boss\"(line 2)\n"
      ],
      "metadata": {
        "id": "RSp5xNx1I-KH",
        "colab": {
          "base_uri": "https://localhost:8080/"
        },
        "outputId": "65a706ea-e8db-489f-eb75-5f369360b38c"
      },
      "execution_count": null,
      "outputs": [
        {
          "output_type": "stream",
          "name": "stdout",
          "text": [
            "samboss\n"
          ]
        }
      ]
    },
    {
      "cell_type": "code",
      "source": [
        "def greet(name):    #Here greet is function(), name is a parameter or variable\n",
        "  a= \"sam\" + str(name)   #-->can add only str + str or int + int mixed types will throw error\n",
        "  return a\n",
        "\n",
        "print(greet(\"3\"))"
      ],
      "metadata": {
        "colab": {
          "base_uri": "https://localhost:8080/"
        },
        "id": "u-xAIIjniGY1",
        "outputId": "f5f130b2-b4b0-430e-f992-b4de89fc229a"
      },
      "execution_count": null,
      "outputs": [
        {
          "output_type": "stream",
          "name": "stdout",
          "text": [
            "sam3\n"
          ]
        }
      ]
    },
    {
      "cell_type": "code",
      "source": [
        "def add(a,b):    #getting user input\n",
        "  c= a + b\n",
        "  #print(c)    #-->here both print and return works(either one can b used)\n",
        "  return c\n",
        "\n",
        "add(int(input()),int(input()))\n"
      ],
      "metadata": {
        "colab": {
          "base_uri": "https://localhost:8080/"
        },
        "id": "naJBI1V4ivT1",
        "outputId": "f5c13c28-98ca-4595-f251-9749c3141ee6"
      },
      "execution_count": null,
      "outputs": [
        {
          "name": "stdout",
          "output_type": "stream",
          "text": [
            "5\n",
            "5\n"
          ]
        },
        {
          "output_type": "execute_result",
          "data": {
            "text/plain": [
              "10"
            ]
          },
          "metadata": {},
          "execution_count": 11
        }
      ]
    },
    {
      "cell_type": "code",
      "source": [
        "#assigning values first -->x is a global variable which can b used for the complete code, z can b used only within the function(local variable) otherwise it wil show error\n",
        "x=40\n",
        "\n",
        "def number():\n",
        "  z=30\n",
        "  print(x)\n",
        "number()\n",
        "print(z)"
      ],
      "metadata": {
        "colab": {
          "base_uri": "https://localhost:8080/",
          "height": 227
        },
        "id": "gCidlodmlyIE",
        "outputId": "87aedeff-77a0-428f-fa50-e69589a2e070"
      },
      "execution_count": null,
      "outputs": [
        {
          "output_type": "stream",
          "name": "stdout",
          "text": [
            "40\n"
          ]
        },
        {
          "output_type": "error",
          "ename": "NameError",
          "evalue": "ignored",
          "traceback": [
            "\u001b[0;31m---------------------------------------------------------------------------\u001b[0m",
            "\u001b[0;31mNameError\u001b[0m                                 Traceback (most recent call last)",
            "\u001b[0;32m<ipython-input-22-bc6341f6fef0>\u001b[0m in \u001b[0;36m<cell line: 8>\u001b[0;34m()\u001b[0m\n\u001b[1;32m      6\u001b[0m   \u001b[0mprint\u001b[0m\u001b[0;34m(\u001b[0m\u001b[0mx\u001b[0m\u001b[0;34m)\u001b[0m\u001b[0;34m\u001b[0m\u001b[0;34m\u001b[0m\u001b[0m\n\u001b[1;32m      7\u001b[0m \u001b[0mnumber\u001b[0m\u001b[0;34m(\u001b[0m\u001b[0;34m)\u001b[0m\u001b[0;34m\u001b[0m\u001b[0;34m\u001b[0m\u001b[0m\n\u001b[0;32m----> 8\u001b[0;31m \u001b[0mprint\u001b[0m\u001b[0;34m(\u001b[0m\u001b[0mz\u001b[0m\u001b[0;34m)\u001b[0m\u001b[0;34m\u001b[0m\u001b[0;34m\u001b[0m\u001b[0m\n\u001b[0m",
            "\u001b[0;31mNameError\u001b[0m: name 'z' is not defined"
          ]
        }
      ]
    },
    {
      "cell_type": "code",
      "source": [
        "x=20             #-->global variable will b second preference\n",
        "def number():\n",
        "  x=25          #-->local variable will get first preference\n",
        "  print(x)\n",
        "number()\n",
        "print(x)"
      ],
      "metadata": {
        "id": "CfGtYcbDVGp3"
      },
      "execution_count": null,
      "outputs": []
    },
    {
      "cell_type": "code",
      "source": [
        "#(important:We cannot change the value of global variable inside the function but we can do that using (global)\n",
        "u=22\n",
        "def cal():\n",
        "  global u  #-->Globe is used to use the global variable inside function()\n",
        "  u=u*2\n",
        "  return u\n",
        "cal()"
      ],
      "metadata": {
        "colab": {
          "base_uri": "https://localhost:8080/"
        },
        "id": "hDdNAe7sVURv",
        "outputId": "bb0f180c-6fd6-4d6c-aabf-7ef8835977df"
      },
      "execution_count": null,
      "outputs": [
        {
          "output_type": "execute_result",
          "data": {
            "text/plain": [
              "44"
            ]
          },
          "metadata": {},
          "execution_count": 25
        }
      ]
    },
    {
      "cell_type": "code",
      "source": [
        "# (*)argv(argument variable) -->is used,if dont know how many parameters or arguments does a function has...\n",
        "def multiple(*s):\n",
        "  for a in s:\n",
        "    return s\n",
        "multiple(\"a\",\"b\",\"c\",\"1\")\n"
      ],
      "metadata": {
        "colab": {
          "base_uri": "https://localhost:8080/"
        },
        "id": "stLpHLa8XVGR",
        "outputId": "d0a693e0-dce9-4cd4-c67c-3c6cdd3e1700"
      },
      "execution_count": null,
      "outputs": [
        {
          "output_type": "execute_result",
          "data": {
            "text/plain": [
              "('a', 'b', 'c', '1')"
            ]
          },
          "metadata": {},
          "execution_count": 29
        }
      ]
    },
    {
      "cell_type": "code",
      "source": [
        "def multiple(*s):\n",
        "  print(s)\n",
        "  return s\n",
        "a,b,c,d=multiple(\"a\",\"b\",\"c\",\"1\")\n",
        "d   #-->d is printed o/p will b assigned value"
      ],
      "metadata": {
        "colab": {
          "base_uri": "https://localhost:8080/",
          "height": 53
        },
        "id": "iaSWHj-fbGfb",
        "outputId": "f384e57d-ead0-43da-e875-0bed8fde63e9"
      },
      "execution_count": null,
      "outputs": [
        {
          "output_type": "stream",
          "name": "stdout",
          "text": [
            "('a/n', 'b', 'c', '1')\n"
          ]
        },
        {
          "output_type": "execute_result",
          "data": {
            "text/plain": [
              "'1'"
            ],
            "application/vnd.google.colaboratory.intrinsic+json": {
              "type": "string"
            }
          },
          "metadata": {},
          "execution_count": 43
        }
      ]
    },
    {
      "cell_type": "code",
      "source": [
        "#multiple arguments inside one function\n",
        "def arg(a,b,*c):\n",
        "  print(a,b)\n",
        "  return c   #-->here like indexing first 2 arguments gets assigned and remaining elements will b alloted to c\n",
        "arg(\"disk\",\"cd\",\"ram\",\"rom\",\"drive\")\n",
        "\n"
      ],
      "metadata": {
        "colab": {
          "base_uri": "https://localhost:8080/"
        },
        "id": "EOwqiVI7eiza",
        "outputId": "054a8f9a-6245-4fca-fbf7-78668ab497af"
      },
      "execution_count": null,
      "outputs": [
        {
          "output_type": "stream",
          "name": "stdout",
          "text": [
            "disk cd\n"
          ]
        },
        {
          "output_type": "execute_result",
          "data": {
            "text/plain": [
              "('ram', 'rom', 'drive')"
            ]
          },
          "metadata": {},
          "execution_count": 48
        }
      ]
    },
    {
      "cell_type": "code",
      "source": [
        "#keyword arguments:\n",
        "def myfun(**karg):\n",
        "  print(karg.items())\n",
        "  for key,value in karg.items():\n",
        "    print(\"%s == %s\" %(key,value) )\n",
        "\n",
        "myfun(f=\"a\",e=\"b\")    #-->key will not have numbers and string\"\"\n"
      ],
      "metadata": {
        "id": "EPHiKwNMkJO7",
        "colab": {
          "base_uri": "https://localhost:8080/"
        },
        "outputId": "a003a8fe-03ab-4698-d09c-7411befe60f7"
      },
      "execution_count": null,
      "outputs": [
        {
          "output_type": "stream",
          "name": "stdout",
          "text": [
            "dict_items([('f', 'a'), ('e', 'b')])\n",
            "f == a\n",
            "e == b\n"
          ]
        }
      ]
    },
    {
      "cell_type": "code",
      "source": [
        "#3 types of formating:\n",
        "print( \"hi %s\" % (\"friend\"))\n",
        "print(\"hi {}\" .format (\"frnd\"))\n",
        "buddy=\"frnd\"\n",
        "print(f\"hi {buddy}\")"
      ],
      "metadata": {
        "colab": {
          "base_uri": "https://localhost:8080/"
        },
        "id": "NuIq5p2-t4QP",
        "outputId": "2dfe8683-85be-4d0a-ea6b-c7f61087494b"
      },
      "execution_count": null,
      "outputs": [
        {
          "output_type": "stream",
          "name": "stdout",
          "text": [
            "hi friend\n",
            "hi frnd\n",
            "hi frnd\n"
          ]
        }
      ]
    },
    {
      "cell_type": "code",
      "source": [
        "#\\n & \\t\n",
        "print(\"\\ngo\",\"\\ndown\")   #--->next line\n",
        "print(\"\\tgo\",\"\\tdown\")   #-->tab\n"
      ],
      "metadata": {
        "colab": {
          "base_uri": "https://localhost:8080/"
        },
        "id": "_SoBag_AyJJo",
        "outputId": "7cfe2f87-59d7-46ae-b859-0ee5ddc993ec"
      },
      "execution_count": null,
      "outputs": [
        {
          "output_type": "stream",
          "name": "stdout",
          "text": [
            "\n",
            "go \n",
            "down\n",
            "\tgo \tdown\n"
          ]
        }
      ]
    },
    {
      "cell_type": "code",
      "source": [
        "def function_in_module():\n",
        "  print(\"found inside function\")\n",
        "\n",
        "if __name__ == \"__main__\":      #--->syntax to create main file\n",
        "  print(\"runned directly not imported\")\n",
        "  function_in_module()\n"
      ],
      "metadata": {
        "id": "DIIK57dHTuv3",
        "colab": {
          "base_uri": "https://localhost:8080/"
        },
        "outputId": "e10c65f2-e238-4029-be01-b5a7643cd6ce"
      },
      "execution_count": null,
      "outputs": [
        {
          "output_type": "stream",
          "name": "stdout",
          "text": [
            "runned directly not imported\n",
            "found inside function\n"
          ]
        }
      ]
    },
    {
      "cell_type": "code",
      "source": [
        "import my_module"
      ],
      "metadata": {
        "id": "1FP1QZ5wZvnF"
      },
      "execution_count": null,
      "outputs": []
    },
    {
      "cell_type": "code",
      "source": [
        "#calling function from diff file\n",
        "my_module.function_in_module()"
      ],
      "metadata": {
        "colab": {
          "base_uri": "https://localhost:8080/"
        },
        "id": "5-XEczyXZ7B9",
        "outputId": "30d2d24e-904e-4bc3-d97f-d8eacaf155b0"
      },
      "execution_count": null,
      "outputs": [
        {
          "output_type": "stream",
          "name": "stdout",
          "text": [
            "found inside function\n"
          ]
        }
      ]
    },
    {
      "cell_type": "markdown",
      "source": [
        "/content/my_module.py -->path of my_module.py"
      ],
      "metadata": {
        "id": "qSOx1s04aVCz"
      }
    },
    {
      "cell_type": "code",
      "source": [
        "#lambda function:   this function works in a single line with many arguments but one expression(condition)\n",
        "x=lambda a:a+10    #--> x is a normal variable,a is an argument\n",
        "print(x(5))"
      ],
      "metadata": {
        "colab": {
          "base_uri": "https://localhost:8080/"
        },
        "id": "wZTk7yfJdeVt",
        "outputId": "df2493cf-9b31-408b-a74c-921936e7dc46"
      },
      "execution_count": null,
      "outputs": [
        {
          "output_type": "stream",
          "name": "stdout",
          "text": [
            "15\n"
          ]
        }
      ]
    },
    {
      "cell_type": "code",
      "source": [
        "a=lambda x,y,z:(x.upper(),y.upper(),z.upper())\n",
        "print(a(input(),input(),input()))"
      ],
      "metadata": {
        "colab": {
          "base_uri": "https://localhost:8080/"
        },
        "id": "0R9HNGJKeEud",
        "outputId": "7d106c15-ce40-46dd-b49c-baa55a7ac7b0"
      },
      "execution_count": null,
      "outputs": [
        {
          "output_type": "stream",
          "name": "stdout",
          "text": [
            "gun\n",
            "fun\n",
            "run\n",
            "('GUN', 'FUN', 'RUN')\n"
          ]
        }
      ]
    },
    {
      "cell_type": "code",
      "source": [
        "#can use lambda inside function and also inside lambda we can use another function both can b done\n",
        "#Here we use lambda function inside a function\n",
        "def myfun(n):\n",
        "  return lambda a:a*n   #return will take 'a' inside the variable first\n",
        "first=myfun(3)          #indentation is important here it should b outside the function\n",
        "print(first(11))        #usually we will call 'myfun()'function but here lambda and myfun is stored and used in 'first'variable so first is called"
      ],
      "metadata": {
        "colab": {
          "base_uri": "https://localhost:8080/"
        },
        "id": "KKPA3YntxmQ3",
        "outputId": "09fbab0d-5161-4bbc-c34b-4bfd374f724c"
      },
      "execution_count": null,
      "outputs": [
        {
          "output_type": "stream",
          "name": "stdout",
          "text": [
            "33\n"
          ]
        }
      ]
    },
    {
      "cell_type": "code",
      "source": [
        "#here we use function inside lambda function\n",
        "#this method can only b used to import from different file\n",
        "def add(a,b):\n",
        "  return a+b\n",
        "x=lambda a,b:add(a,b)\n",
        "print(x(20,30))"
      ],
      "metadata": {
        "colab": {
          "base_uri": "https://localhost:8080/"
        },
        "id": "w9Y18gro17Uj",
        "outputId": "a034ed15-dabe-4640-fd87-6c7ff29f8bde"
      },
      "execution_count": null,
      "outputs": [
        {
          "output_type": "stream",
          "name": "stdout",
          "text": [
            "50\n"
          ]
        }
      ]
    },
    {
      "cell_type": "code",
      "source": [
        "#example task:\n",
        "first_name=(input(\"Enter first name:\"))\n",
        "last_name=(input(\"Enter last name:\"))\n",
        "if first_name.isalpha() and last_name.isalpha():\n",
        "  print(\"Welcome!\",first_name.capitalize(),last_name.capitalize())\n",
        "else:\n",
        "  print(\"User Name incorrect\")\n",
        "phone_number=(input(\"Enter phone number:\"))\n",
        "length=len(phone_number)\n",
        "if phone_number.isdigit() and length==10:\n",
        "  print(\"+91\",phone_number)\n",
        "email_id=(input(\"Enter email_id:\"))\n",
        "special_char=\".,_\"\n",
        "for i in email_id:\n",
        "  if i in special_char and email_id.endswith(\"@gmail.com\"):\n",
        "    print(email_id)\n",
        "  else:\n",
        "      print(\"Invalid email_id\")\n",
        "  break\n",
        "\n",
        "\n",
        "\n",
        "\n",
        "\n",
        "\n",
        "\n",
        "\n",
        "\n"
      ],
      "metadata": {
        "colab": {
          "base_uri": "https://localhost:8080/"
        },
        "id": "T4BzehhyC3rk",
        "outputId": "fadb471a-9898-403c-96a5-47172bb9614f"
      },
      "execution_count": null,
      "outputs": [
        {
          "output_type": "stream",
          "name": "stdout",
          "text": [
            "Enter first name:ramu\n",
            "Enter last name:r\n",
            "Welcome! Ramu R\n",
            "Enter phone number:9090909090\n",
            "+91 9090909090\n",
            "Enter email_id:fthebs\n",
            "Invalid email_id\n"
          ]
        }
      ]
    }
  ]
}